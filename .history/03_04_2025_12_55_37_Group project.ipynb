{
 "cells": [
  {
   "cell_type": "markdown",
   "id": "ee5ec0b7-211e-47ee-a9f3-b3126f06be22",
   "metadata": {},
   "source": [
    "# Final Project Report: Is age of a player a good predictor for total played hours?\n",
    "Group 007-2 Sohan Sadeque, Io Santiago, Maggie Tu, Fangfei Zhu"
   ]
  },
  {
   "cell_type": "markdown",
   "id": "76595055-40e2-46c8-87d8-823c0df2ab74",
   "metadata": {},
   "source": [
    "### Introduction:"
   ]
  },
  {
   "cell_type": "markdown",
   "id": "9a13928d-de88-4793-946c-2f24d27f4451",
   "metadata": {},
   "source": [
    "### Methods & Results:"
   ]
  },
  {
   "cell_type": "markdown",
   "id": "01aff741-c182-4b21-9be9-28c55fbb73a9",
   "metadata": {},
   "source": [
    "#### loads data "
   ]
  },
  {
   "cell_type": "code",
   "execution_count": null,
   "id": "81afb1d9-2ca6-43cd-8697-c0b28efb3664",
   "metadata": {},
   "outputs": [],
   "source": [
    "library(tidyverse)\n",
    "library(repr)\n",
    "library(ggplot2)\n",
    "library(tidymodels)\n",
    "options(repr.matrix.max.rows = 6)"
   ]
  },
  {
   "cell_type": "code",
   "execution_count": null,
   "id": "91ee999f-b9cc-4a53-a66f-fff45c8e0c31",
   "metadata": {},
   "outputs": [],
   "source": [
    "players <- read_csv(\"https://raw.githubusercontent.com/maggiettu/dsci100-group-project/refs/heads/main/players.csv\")\n",
    "players\n",
    "summary(players)"
   ]
  },
  {
   "cell_type": "code",
   "execution_count": null,
   "id": "2667e9b2-a090-4290-95e1-7eaebcbdf534",
   "metadata": {},
   "outputs": [],
   "source": [
    "sessions <- read_csv(\"https://raw.githubusercontent.com/maggiettu/dsci100-group-project/refs/heads/main/sessions.csv\")\n",
    "sessions\n",
    "summary(sessions)"
   ]
  },
  {
   "cell_type": "markdown",
   "id": "4c909bf4-321c-4b6b-81ef-1c23ba5447dd",
   "metadata": {
    "scrolled": true
   },
   "source": [
    "#### Wrangling and Cleaning the Dataset"
   ]
  },
  {
   "cell_type": "code",
   "execution_count": null,
   "id": "815ec27c-c1ee-452b-9b62-f2d11ebbb885",
   "metadata": {},
   "outputs": [],
   "source": [
    "players_select <- players |>\n",
    "        select(played_hours,Age)\n",
    "players_select"
   ]
  },
  {
   "cell_type": "code",
   "execution_count": null,
   "id": "68714fe0-0aa7-4b88-8860-78713874793d",
   "metadata": {},
   "outputs": [],
   "source": [
    "players_mean <- players_select |>\n",
    "        summarize(\n",
    "            mean_played_hours = mean(played_hours),\n",
    "            mean_age = mean (Age, na.rm = TRUE))\n",
    "\n",
    "players_mean"
   ]
  },
  {
   "cell_type": "markdown",
   "id": "585c52b4-07f9-4302-99d2-5f3dea7aeee4",
   "metadata": {
    "scrolled": true
   },
   "source": [
    "### Visualization of the dataset"
   ]
  },
  {
   "cell_type": "code",
   "execution_count": null,
   "id": "a28c7ff5-e0b2-4ecc-bf94-179269ba6b03",
   "metadata": {},
   "outputs": [],
   "source": [
    "players_plot <- players_select|>\n",
    "    ggplot(aes(x = Age ,y = played_hours)) +\n",
    "    geom_bar(stat=\"identity\")+\n",
    "    labs(x = \"Player's age\",y = \"Total played time (hours)\") +\n",
    "    ggtitle(\"Player's age and Total played time in hours\")+\n",
    "    theme(text = element_text(size = 15))\n",
    "players_plot"
   ]
  },
  {
   "cell_type": "markdown",
   "id": "4c9c80a5-6856-4cf2-904b-ff116ca96afe",
   "metadata": {},
   "source": [
    "### Data Analy"
   ]
  },
  {
   "cell_type": "markdown",
   "id": "6bfe2784-d0c1-4287-a8e0-00f525de9db5",
   "metadata": {},
   "source": [
    "### Discussion:"
   ]
  },
  {
   "cell_type": "markdown",
   "id": "3682b646-e5db-4adc-98c1-4b979edfb55e",
   "metadata": {},
   "source": [
    "### References"
   ]
  },
  {
   "cell_type": "code",
   "execution_count": null,
   "id": "a0b44677-335a-4bb8-a7f2-39b4084f13f2",
   "metadata": {},
   "outputs": [],
   "source": []
  }
 ],
 "metadata": {
  "kernelspec": {
   "display_name": "R",
   "language": "R",
   "name": "ir"
  },
  "language_info": {
   "codemirror_mode": "r",
   "file_extension": ".r",
   "mimetype": "text/x-r-source",
   "name": "R",
   "pygments_lexer": "r",
   "version": "4.3.3"
  }
 },
 "nbformat": 4,
 "nbformat_minor": 5
}
