{
 "cells": [
  {
   "cell_type": "markdown",
   "id": "ee5ec0b7-211e-47ee-a9f3-b3126f06be22",
   "metadata": {},
   "source": [
    "# Final Project Report: Is age of a player a good predictor for total played hours?\n",
    "Group 007-2 Sohan Sadeque, Io Santiago, Maggie Tu, Fangfei Zhu"
   ]
  },
  {
   "cell_type": "markdown",
   "id": "76595055-40e2-46c8-87d8-823c0df2ab74",
   "metadata": {},
   "source": [
    "### Introduction:"
   ]
  },
  {
   "cell_type": "markdown",
   "id": "9a13928d-de88-4793-946c-2f24d27f4451",
   "metadata": {},
   "source": [
    "### Methods & Results:"
   ]
  },
  {
   "cell_type": "markdown",
   "id": "6bfe2784-d0c1-4287-a8e0-00f525de9db5",
   "metadata": {},
   "source": [
    "### Discussion:"
   ]
  },
  {
   "cell_type": "markdown",
   "id": "3682b646-e5db-4adc-98c1-4b979edfb55e",
   "metadata": {},
   "source": [
    "### References"
   ]
  },
  {
   "cell_type": "code",
   "execution_count": null,
   "id": "a0b44677-335a-4bb8-a7f2-39b4084f13f2",
   "metadata": {},
   "outputs": [],
   "source": []
  }
 ],
 "metadata": {
  "kernelspec": {
   "display_name": "R",
   "language": "R",
   "name": "ir"
  },
  "language_info": {
   "codemirror_mode": "r",
   "file_extension": ".r",
   "mimetype": "text/x-r-source",
   "name": "R",
   "pygments_lexer": "r",
   "version": "4.3.3"
  }
 },
 "nbformat": 4,
 "nbformat_minor": 5
}
