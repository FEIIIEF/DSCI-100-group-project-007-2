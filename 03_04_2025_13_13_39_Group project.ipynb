{
 "cells": [
  {
   "cell_type": "markdown",
   "id": "ee5ec0b7-211e-47ee-a9f3-b3126f06be22",
   "metadata": {},
   "source": [
    "# Final Project Report: Is age of a player a good predictor for total played hours?\n",
    "Group 007-2 Sohan Sadeque, Io Santiago, Maggie Tu, Fangfei Zhu"
   ]
  },
  {
   "cell_type": "markdown",
   "id": "76595055-40e2-46c8-87d8-823c0df2ab74",
   "metadata": {},
   "source": [
    "### Introduction:\n",
    "PLAICraft is a project run by the PLAI (Pacific Laboratory for Artificial Intelligence) group at UBC’s Computer Science Department. Through this project, participants are able to play *Minecraft* for free on their browser on a shared server world where data such as audio, key presses, mouse inputs, and video footage is collected from players to train an Artificial Intelligence model. \n",
    "Our group first chose a broad question that we wanted to answer using datasets from this project. We ended up choosing: <br>\n",
    "\n",
    "**Which ‘kinds’ of players are most likely to contribute a large amount of data?** <br>\n",
    "\n",
    "To answer this broad question, we had to narrow it down and make it more specific. We decided that we can use ‘total played hours’ as a metric for the amount of data contributed and that age would be an interesting variable to correlate it with. Therefore, this report will focus on answering the following specific question: <br>\n",
    "\n",
    "**Can age predict the total played hours for participants?** <br>\n",
    "\n",
    "To answer this question, we were provided with two datasets: ‘players.csv’ and ‘sessions.csv’. <br>\n",
    "The players.csv dataset includes data on the PLAICraft players themselves, totalling 196 observations and 7 variables including: <br>\n",
    "<ol>\n",
    "    <li>\n",
    "        experience: The player’s prior experience with *Minecraft*\n",
    "    </li>\n",
    "    <li>\n",
    "        subscribe: Whether the player is subscribed to the PLAICraft mailing list\n",
    "    </li>\n",
    "    <li>\n",
    "        hashedEmail: The player’s encrypted email\n",
    "    </li>\n",
    "    <li>\n",
    "        played_hours: The player’s total hours on the PLAICraft server\n",
    "    </li>\n",
    "    <li>\n",
    "        name: The player’s first name\n",
    "    </li>\n",
    "    <li>\n",
    "        gender: The player’s gender\n",
    "    </li>\n",
    "    <li>\n",
    "        Age: The player’s age\n",
    "    </li>\n",
    "</ol>\n",
    "The second dataset, sessions.csv, includes data on PLAICraft sessions. It totals 1,535 observations, each representing an individual player’s play session on the server. The dataset includes 5 variables:\n",
    "<ol>\n",
    "    <li>\n",
    "        hashedEmail: The player’s encrypted email\n",
    "    </li>\n",
    "    <li>\n",
    "        start_time: The play session’s start time including date, month, year, and time in 24-hour clock format\n",
    "    </li>\n",
    "    <li>\n",
    "        end_time: The play session’s end time including date, month, year, and time in 24-hour clock format\n",
    "    </li>\n",
    "    <li>\n",
    "        original_start_time: The play session’s start time in a different format.\n",
    "    </li>\n",
    "    <li>\n",
    "        original_end_time: The play session’s end time in a different format.\n",
    "    </li>\n",
    "</ol>\n",
    "Our methods will focus on using the <b>players.csv</b> dataset to answer our question."
   ]
  },
  {
   "cell_type": "markdown",
   "id": "9a13928d-de88-4793-946c-2f24d27f4451",
   "metadata": {},
   "source": [
    "### Methods & Results:"
   ]
  },
  {
   "cell_type": "markdown",
   "id": "01aff741-c182-4b21-9be9-28c55fbb73a9",
   "metadata": {},
   "source": [
    "#### loads data "
   ]
  },
  {
   "cell_type": "code",
   "execution_count": null,
   "id": "81afb1d9-2ca6-43cd-8697-c0b28efb3664",
   "metadata": {},
   "outputs": [],
   "source": [
    "library(tidyverse)\n",
    "library(repr)\n",
    "library(ggplot2)\n",
    "library(tidymodels)\n",
    "options(repr.matrix.max.rows = 6)"
   ]
  },
  {
   "cell_type": "code",
   "execution_count": null,
   "id": "91ee999f-b9cc-4a53-a66f-fff45c8e0c31",
   "metadata": {},
   "outputs": [],
   "source": [
    "players <- read_csv(\"https://raw.githubusercontent.com/maggiettu/dsci100-group-project/refs/heads/main/players.csv\")\n",
    "players\n",
    "summary(players)"
   ]
  },
  {
   "cell_type": "code",
   "execution_count": null,
   "id": "2667e9b2-a090-4290-95e1-7eaebcbdf534",
   "metadata": {},
   "outputs": [],
   "source": [
    "sessions <- read_csv(\"https://raw.githubusercontent.com/maggiettu/dsci100-group-project/refs/heads/main/sessions.csv\")\n",
    "sessions\n",
    "summary(sessions)"
   ]
  },
  {
   "cell_type": "markdown",
   "id": "4c909bf4-321c-4b6b-81ef-1c23ba5447dd",
   "metadata": {
    "scrolled": true
   },
   "source": [
    "### Wrangling and Cleaning the Dataset"
   ]
  },
  {
   "cell_type": "code",
   "execution_count": null,
   "id": "815ec27c-c1ee-452b-9b62-f2d11ebbb885",
   "metadata": {},
   "outputs": [],
   "source": [
    "players_select <- players |>\n",
    "        select(played_hours,Age)\n",
    "players_select"
   ]
  },
  {
   "cell_type": "code",
   "execution_count": null,
   "id": "7d31680d-e639-4849-b42a-e75bc406bd04",
   "metadata": {},
   "outputs": [],
   "source": [
    "players_clean <- players_select |>\n",
    "rename(age = Age)"
   ]
  },
  {
   "cell_type": "code",
   "execution_count": null,
   "id": "68714fe0-0aa7-4b88-8860-78713874793d",
   "metadata": {},
   "outputs": [],
   "source": [
    "players_mean <- players_clean |>\n",
    "        summarize(\n",
    "            mean_played_hours = mean(played_hours),\n",
    "            mean_age = mean (age, na.rm = TRUE))\n",
    "\n",
    "players_mean"
   ]
  },
  {
   "cell_type": "markdown",
   "id": "b0381886-610f-4b68-8771-7e0de720d198",
   "metadata": {},
   "source": [
    "### Summary of the data"
   ]
  },
  {
   "cell_type": "code",
   "execution_count": null,
   "id": "b17fac23-6966-4fb7-ac68-028b9ec3f1cb",
   "metadata": {},
   "outputs": [],
   "source": []
  },
  {
   "cell_type": "markdown",
   "id": "585c52b4-07f9-4302-99d2-5f3dea7aeee4",
   "metadata": {
    "scrolled": true
   },
   "source": [
    "### Visualization of the dataset"
   ]
  },
  {
   "cell_type": "code",
   "execution_count": null,
   "id": "a28c7ff5-e0b2-4ecc-bf94-179269ba6b03",
   "metadata": {},
   "outputs": [],
   "source": [
    "players_plot <- players_clean |>\n",
    "    ggplot(aes(x = age ,y = played_hours)) +\n",
    "    geom_point()+\n",
    "    labs(x = \"Player's age\",y = \"Total played time (hours)\") +\n",
    "    ggtitle(\"Player's age and Total played time in hours\")+\n",
    "    theme(text = element_text(size = 15))\n",
    "players_plot"
   ]
  },
  {
   "cell_type": "markdown",
   "id": "4c9c80a5-6856-4cf2-904b-ff116ca96afe",
   "metadata": {},
   "source": [
    "### Data Analysis"
   ]
  },
  {
   "cell_type": "code",
   "execution_count": null,
   "id": "2052bb0b-0faa-4cc2-9456-ec42b1df8fe5",
   "metadata": {},
   "outputs": [],
   "source": [
    "players_split <- initial_split(players_clean, prop = 0.75, strata = played_hours)\n",
    "players_training <- training(players_split)\n",
    "players_testing <- testing(players_split)\n",
    "\n",
    "players_spec <- nearest_neighbor(weight_func = \"rectangular\", neighbors =  tune()) |> \n",
    "      set_engine(\"kknn\") |>\n",
    "      set_mode(\"regression\") \n",
    "\n",
    "players_recipe <- recipe(played_hours ~ age, data = players_training) |>\n",
    "      step_scale(all_predictors()) |>\n",
    "      step_center(all_predictors())"
   ]
  },
  {
   "cell_type": "code",
   "execution_count": null,
   "id": "8489d55b-02e3-451b-808a-e8e97caf024c",
   "metadata": {},
   "outputs": [],
   "source": [
    "set.seed(1234)\n",
    "\n",
    "players_vfold <- vfold_cv(players_training, v = 5, strata = played_hours)\n",
    "\n",
    "players_workflow <- workflow() |>\n",
    "  add_recipe(players_recipe) |>\n",
    "  add_model(players_spec)"
   ]
  },
  {
   "cell_type": "code",
   "execution_count": null,
   "id": "cc7a2a6b-644a-43c7-9c4a-1572ed50aff3",
   "metadata": {},
   "outputs": [],
   "source": [
    "set.seed(2019)\n",
    "\n",
    "gridvals <- tibble(neighbors = seq(from = 1, to = 10, by = 1))\n",
    "\n",
    "\n",
    "players_results <- players_workflow |>\n",
    "  tune_grid(resamples = players_vfold, grid = gridvals) |>\n",
    "  collect_metrics()\n",
    "\n",
    "players_results"
   ]
  },
  {
   "cell_type": "code",
   "execution_count": null,
   "id": "5ca095b3-5082-4d04-89b7-6f9c4511ecff",
   "metadata": {},
   "outputs": [],
   "source": [
    "players_preds <- players_best_fit |>\n",
    "  predict(players_training) |>\n",
    "  bind_cols(players_training)\n",
    "\n",
    "players_plot <- ggplot(players_preds, aes(x = age, y = played_hours)) +\n",
    "  geom_point() +\n",
    "  geom_line(data = players_preds,\n",
    "            mapping = aes(x = age, y = .pred),\n",
    "            color = \"blue\") +\n",
    "  xlab(\"player age (years)\") +\n",
    "  ylab(\"total played time (hours)\") +\n",
    "  ggtitle(paste0(\"K = \", k_min))\n",
    "\n",
    "players_plot"
   ]
  },
  {
   "cell_type": "markdown",
   "id": "6bfe2784-d0c1-4287-a8e0-00f525de9db5",
   "metadata": {},
   "source": [
    "### Discussion:"
   ]
  },
  {
   "cell_type": "markdown",
   "id": "3682b646-e5db-4adc-98c1-4b979edfb55e",
   "metadata": {},
   "source": [
    "### References"
   ]
  },
  {
   "cell_type": "code",
   "execution_count": null,
   "id": "a0b44677-335a-4bb8-a7f2-39b4084f13f2",
   "metadata": {},
   "outputs": [],
   "source": []
  }
 ],
 "metadata": {
  "kernelspec": {
   "display_name": "R",
   "language": "R",
   "name": "ir"
  },
  "language_info": {
   "codemirror_mode": "r",
   "file_extension": ".r",
   "mimetype": "text/x-r-source",
   "name": "R",
   "pygments_lexer": "r",
   "version": "4.3.3"
  }
 },
 "nbformat": 4,
 "nbformat_minor": 5
}
